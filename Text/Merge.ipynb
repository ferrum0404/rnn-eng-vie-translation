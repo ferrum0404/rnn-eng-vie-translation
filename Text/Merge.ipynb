{
 "cells": [
  {
   "cell_type": "code",
   "execution_count": 1,
   "metadata": {},
   "outputs": [],
   "source": [
    "import pandas as pd"
   ]
  },
  {
   "cell_type": "code",
   "execution_count": 24,
   "metadata": {},
   "outputs": [],
   "source": [
    "path = \"xlsx\\\\Book1.xlsx\"\n",
    "df = pd.read_excel(path)\n",
    "df.to_csv(\"Book1.txt\", sep=\"\\t\", index=False)"
   ]
  },
  {
   "cell_type": "code",
   "execution_count": 9,
   "metadata": {},
   "outputs": [],
   "source": [
    "data = pd.read_csv('vie.txt', sep='\\t', header=None)\n",
    "data.to_excel('vie.xlsx', index=False)"
   ]
  },
  {
   "cell_type": "code",
   "execution_count": 22,
   "metadata": {},
   "outputs": [
    {
     "name": "stdout",
     "output_type": "stream",
     "text": [
      "<class 'pandas.core.frame.DataFrame'>\n",
      "RangeIndex: 254090 entries, 0 to 254089\n",
      "Data columns (total 2 columns):\n",
      " #   Column      Non-Null Count   Dtype \n",
      "---  ------      --------------   ----- \n",
      " 0   Tiếng_Việt  254090 non-null  object\n",
      " 1   Tiếng_Anh   254090 non-null  object\n",
      "dtypes: object(2)\n",
      "memory usage: 3.9+ MB\n",
      "None\n",
      "<class 'pandas.core.frame.DataFrame'>\n",
      "RangeIndex: 9428 entries, 0 to 9427\n",
      "Data columns (total 2 columns):\n",
      " #   Column      Non-Null Count  Dtype \n",
      "---  ------      --------------  ----- \n",
      " 0   Tiếng_Việt  9428 non-null   object\n",
      " 1   Tiếng_Anh   9428 non-null   object\n",
      "dtypes: object(2)\n",
      "memory usage: 147.4+ KB\n",
      "None\n"
     ]
    }
   ],
   "source": [
    "data_1 = pd.read_excel(\"xlsx\\\\Book1.xlsx\")\n",
    "data_2 = pd.read_excel(\"xlsx\\\\vie.xlsx\")\n",
    "print(data_1.info())\n",
    "print(data_2.info())"
   ]
  },
  {
   "cell_type": "code",
   "execution_count": 21,
   "metadata": {},
   "outputs": [
    {
     "name": "stdout",
     "output_type": "stream",
     "text": [
      "<class 'pandas.core.frame.DataFrame'>\n",
      "RangeIndex: 254090 entries, 0 to 254089\n",
      "Data columns (total 2 columns):\n",
      " #   Column  Non-Null Count   Dtype \n",
      "---  ------  --------------   ----- \n",
      " 0   0       254090 non-null  object\n",
      " 1   1       254090 non-null  object\n",
      "dtypes: object(2)\n",
      "memory usage: 3.9+ MB\n",
      "None\n",
      "<class 'pandas.core.frame.DataFrame'>\n",
      "RangeIndex: 9428 entries, 0 to 9427\n",
      "Data columns (total 3 columns):\n",
      " #   Column  Non-Null Count  Dtype \n",
      "---  ------  --------------  ----- \n",
      " 0   0       9428 non-null   object\n",
      " 1   1       9428 non-null   object\n",
      " 2   2       9428 non-null   object\n",
      "dtypes: object(3)\n",
      "memory usage: 221.1+ KB\n",
      "None\n"
     ]
    }
   ],
   "source": [
    "data_1 = pd.read_csv(\"txt\\\\Book1.txt\", sep='\\t', header=None)\n",
    "data_2 = pd.read_csv(\"txt\\\\vie.txt\", sep='\\t', header=None)\n",
    "print(data_1.info())\n",
    "print(data_2.info())"
   ]
  },
  {
   "cell_type": "code",
   "execution_count": 14,
   "metadata": {},
   "outputs": [],
   "source": [
    "merged_data = pd.concat([data_1, data_2], ignore_index=True)\n",
    "merged_data.to_excel(\"combined_data.xlsx\", index=False)\n",
    "merged_data.to_csv(\"combined_data.txt\", index=False, sep=\"\\t\")"
   ]
  },
  {
   "cell_type": "code",
   "execution_count": 18,
   "metadata": {},
   "outputs": [
    {
     "name": "stdout",
     "output_type": "stream",
     "text": [
      "<class 'pandas.core.frame.DataFrame'>\n",
      "RangeIndex: 263518 entries, 0 to 263517\n",
      "Data columns (total 2 columns):\n",
      " #   Column  Non-Null Count   Dtype \n",
      "---  ------  --------------   ----- \n",
      " 0   0       263518 non-null  object\n",
      " 1   1       263518 non-null  object\n",
      "dtypes: object(2)\n",
      "memory usage: 4.0+ MB\n",
      "None\n",
      "<class 'pandas.core.frame.DataFrame'>\n",
      "RangeIndex: 263518 entries, 0 to 263517\n",
      "Data columns (total 2 columns):\n",
      " #   Column      Non-Null Count   Dtype \n",
      "---  ------      --------------   ----- \n",
      " 0   Tiếng_Việt  263518 non-null  object\n",
      " 1   Tiếng_Anh   263518 non-null  object\n",
      "dtypes: object(2)\n",
      "memory usage: 4.0+ MB\n",
      "None\n"
     ]
    }
   ],
   "source": [
    "df_1 = pd.read_csv('combined_data.txt', sep='\\t', header=None)\n",
    "print(df_1.info())\n",
    "df_2 = pd.read_excel('combined_data.xlsx')\n",
    "print(df_2.info())"
   ]
  }
 ],
 "metadata": {
  "kernelspec": {
   "display_name": "Python 3",
   "language": "python",
   "name": "python3"
  },
  "language_info": {
   "codemirror_mode": {
    "name": "ipython",
    "version": 3
   },
   "file_extension": ".py",
   "mimetype": "text/x-python",
   "name": "python",
   "nbconvert_exporter": "python",
   "pygments_lexer": "ipython3",
   "version": "3.11.4"
  }
 },
 "nbformat": 4,
 "nbformat_minor": 2
}
